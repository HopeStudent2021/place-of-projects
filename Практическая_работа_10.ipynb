{
  "nbformat": 4,
  "nbformat_minor": 0,
  "metadata": {
    "colab": {
      "name": "Практическая работа 10.ipynb",
      "provenance": [],
      "authorship_tag": "ABX9TyM+btzeTlQmbjeI4wxuHMD2",
      "include_colab_link": true
    },
    "kernelspec": {
      "name": "python3",
      "display_name": "Python 3"
    },
    "language_info": {
      "name": "python"
    }
  },
  "cells": [
    {
      "cell_type": "markdown",
      "metadata": {
        "id": "view-in-github",
        "colab_type": "text"
      },
      "source": [
        "<a href=\"https://colab.research.google.com/github/HopeStudent2021/place-of-projects/blob/main/%D0%9F%D1%80%D0%B0%D0%BA%D1%82%D0%B8%D1%87%D0%B5%D1%81%D0%BA%D0%B0%D1%8F_%D1%80%D0%B0%D0%B1%D0%BE%D1%82%D0%B0_10.ipynb\" target=\"_parent\"><img src=\"https://colab.research.google.com/assets/colab-badge.svg\" alt=\"Open In Colab\"/></a>"
      ]
    },
    {
      "cell_type": "code",
      "metadata": {
        "colab": {
          "base_uri": "https://localhost:8080/"
        },
        "id": "eSg7QORY_w_E",
        "outputId": "c10c84b1-50e7-42c8-d15c-09827b0a0926"
      },
      "source": [
        "'''\n",
        "Вариант 19.\n",
        "Дана матрица А(nxn), состоящая из целых чисел. \n",
        "        1.Ввести элементы матрицы, а затем вывести их.\n",
        "        2.Определить сумму квадратов элементов, кратных числу 9, в каждом столбце матрицы.\n",
        "        3.Сложить элементы 1-го и 4-го столбцов соответственно и результаты записать на место побочной диагонали.\n",
        "\n",
        "'''\n",
        "\n",
        "import random\n",
        "\n",
        "n = int(input('n(n>=4) = '))\n",
        "m = n\n",
        "\n",
        "a = []\n",
        "a = [[0]*m for i in range(n)]\n",
        "\n",
        "print('Пункт 1')\n",
        "print()\n",
        "\n",
        "for i in range(n):\n",
        "    for j in range(m):\n",
        "        a[i][j] = random.randint(-20,20)\n",
        "        print( \"{:7d}\".format(a[i][j]), end = \"\" )\n",
        "    print ()\n",
        "print('-'* 30)\n",
        "print('Пункт 2')\n",
        "print()\n",
        "s = 0\n",
        "for i in range(m):\n",
        "    s = 0\n",
        "    for j in range(n):\n",
        "        if abs(a[j][i]) % 9 == 0:\n",
        "            s += a[j][i]*a[j][i]\n",
        "    print(f'Сумма {i+1} столбца',s)\n",
        "print('-'* 30)\n",
        "print('Пункт 3')\n",
        "print()\n",
        "for i in range(n):\n",
        "    a[i][n-1-i]= a[i][0] + a[i][3]\n",
        "\n",
        "\n",
        "for i in range(n):\n",
        "    for j in range(m):\n",
        "        print ( \"{:7d}\".format(a[i][j]), end = \"\" )\n",
        "    print ()"
      ],
      "execution_count": null,
      "outputs": [
        {
          "output_type": "stream",
          "name": "stdout",
          "text": [
            "n(n>=4) = 4\n",
            "Пункт 1\n",
            "\n",
            "     20      9    -16     15\n",
            "      4     10    -15    -13\n",
            "     -7    -14    -13     -3\n",
            "     19      4    -18      3\n",
            "------------------------------\n",
            "Пункт 2\n",
            "\n",
            "Сумма 1 столбца 0\n",
            "Сумма 2 столбца 81\n",
            "Сумма 3 столбца 324\n",
            "Сумма 4 столбца 0\n",
            "------------------------------\n",
            "Пункт 3\n",
            "\n",
            "     20      9    -16     35\n",
            "      4     10     -9    -13\n",
            "     -7    -10    -13     -3\n",
            "     22      4    -18      3\n"
          ]
        }
      ]
    }
  ]
}