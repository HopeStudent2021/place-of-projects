{
  "nbformat": 4,
  "nbformat_minor": 0,
  "metadata": {
    "colab": {
      "name": "Практическая работа 9.ipynb",
      "provenance": [],
      "authorship_tag": "ABX9TyOgXQEw1r/mThoACuB3uQtD",
      "include_colab_link": true
    },
    "kernelspec": {
      "name": "python3",
      "display_name": "Python 3"
    },
    "language_info": {
      "name": "python"
    }
  },
  "cells": [
    {
      "cell_type": "markdown",
      "metadata": {
        "id": "view-in-github",
        "colab_type": "text"
      },
      "source": [
        "<a href=\"https://colab.research.google.com/github/HopeStudent2021/place-of-projects/blob/main/%D0%9F%D1%80%D0%B0%D0%BA%D1%82%D0%B8%D1%87%D0%B5%D1%81%D0%BA%D0%B0%D1%8F_%D1%80%D0%B0%D0%B1%D0%BE%D1%82%D0%B0_9.ipynb\" target=\"_parent\"><img src=\"https://colab.research.google.com/assets/colab-badge.svg\" alt=\"Open In Colab\"/></a>"
      ]
    },
    {
      "cell_type": "code",
      "metadata": {
        "id": "kk3v9o75yKrQ",
        "colab": {
          "base_uri": "https://localhost:8080/"
        },
        "outputId": "b8848e3c-b0ca-4a3b-fcfd-271708701904"
      },
      "source": [
        "'''\n",
        "Вариант 19\n",
        "Дана матрица А(3х5), состоящая из вещественных чисел.\n",
        "        1.Ввести элементы матрицы, а затем вывести их.\n",
        "        2.Определить произведение элементов матрицы, которые больше числа 6,5.\n",
        "        3.Заменить элементы исходной матрицы на их квадраты.\n",
        "\n",
        "'''\n",
        "\n",
        "import random\n",
        "\n",
        "n = 3\n",
        "m = 5\n",
        "\n",
        "a = []\n",
        "a = [[0]*m for i in range(n)]\n",
        "\n",
        "print('Пункт 1')\n",
        "print()\n",
        "for i in range(n):\n",
        "    for j in range(m):\n",
        "        a[i][j] = random.uniform(-20,20)\n",
        "        print( \"{:8.2f}\".format(a[i][j]), end = \"\" )\n",
        "    print ()\n",
        "\n",
        "p = 1\n",
        "for i in range(n):\n",
        "    for j in range(m):\n",
        "        if a[i][j] > 6.5:\n",
        "            p *= a[i][j]\n",
        "        a[i][j] = a[i][j] * a[i][j]\n",
        "        \n",
        "print('-'*30)\n",
        "print('Пункт 2')\n",
        "print()\n",
        "print('Произведение элементов, которые больше 6.5:', round(p,3))\n",
        "print('-'*30)\n",
        "print('Пункт 3')\n",
        "print('Измененная матрица')\n",
        "\n",
        "for i in range(n):\n",
        "    for j in range(m):\n",
        "        print ( \"{:8.2f}\".format(a[i][j]), end = \"\" )\n",
        "    print ()"
      ],
      "execution_count": null,
      "outputs": [
        {
          "output_type": "stream",
          "name": "stdout",
          "text": [
            "Пункт 1\n",
            "\n",
            "  -15.55   12.24    9.06    4.09    7.52\n",
            "  -11.88  -17.62   12.64   -5.43  -11.95\n",
            "   -0.03    1.23   11.50   -2.24   -4.07\n",
            "------------------------------\n",
            "Пункт 2\n",
            "\n",
            "Произведение элементов, которые больше 6.5: 121226.375\n",
            "------------------------------\n",
            "Пункт 3\n",
            "Измененная матрица\n",
            "  241.81  149.71   82.11   16.74   56.60\n",
            "  141.23  310.62  159.74   29.47  142.88\n",
            "    0.00    1.52  132.22    5.03   16.57\n"
          ]
        }
      ]
    }
  ]
}