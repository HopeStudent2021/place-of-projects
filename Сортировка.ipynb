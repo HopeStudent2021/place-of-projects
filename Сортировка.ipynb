{
  "nbformat": 4,
  "nbformat_minor": 0,
  "metadata": {
    "colab": {
      "name": "Сортировка.ipynb",
      "provenance": [],
      "authorship_tag": "ABX9TyO2Ir+X1XvHrhmNzkAOEo+7",
      "include_colab_link": true
    },
    "kernelspec": {
      "name": "python3",
      "display_name": "Python 3"
    },
    "language_info": {
      "name": "python"
    }
  },
  "cells": [
    {
      "cell_type": "markdown",
      "metadata": {
        "id": "view-in-github",
        "colab_type": "text"
      },
      "source": [
        "<a href=\"https://colab.research.google.com/github/HopeStudent2021/place-of-projects/blob/main/%D0%A1%D0%BE%D1%80%D1%82%D0%B8%D1%80%D0%BE%D0%B2%D0%BA%D0%B0.ipynb\" target=\"_parent\"><img src=\"https://colab.research.google.com/assets/colab-badge.svg\" alt=\"Open In Colab\"/></a>"
      ]
    },
    {
      "cell_type": "code",
      "metadata": {
        "colab": {
          "base_uri": "https://localhost:8080/"
        },
        "id": "-mLy9bSrc9tI",
        "outputId": "ae086cf3-6707-403d-f379-01ab2a0188f1"
      },
      "source": [
        "import random\n",
        "\n",
        "n = int(input('n = '))\n",
        "\n",
        "A = [random.randint(-10,10)for i in range(n)]\n",
        "B = [random.randint(-10,10)for i in range(n)]\n",
        "\n",
        "print(A)\n",
        "print(B)\n",
        "\n",
        "\n",
        "# метод пузырька\n",
        "\n",
        "for i in range(n):\n",
        "  for j in range(n-i-1):\n",
        "    if A[j+1] < A[j]:\n",
        "      A[j], A[j+1] = A[j+1], A[j]\n",
        "\n",
        "\n",
        "print('Изменнённый массив A',A)\n",
        "\n",
        "# Метод выбора\n",
        "\n",
        "for i in range(n-1):\n",
        "  nMin = i\n",
        "  for j in range(i+1, n):\n",
        "    if B[j] < B[nMin]:\n",
        "      nMin = j\n",
        "  if i != nMin:\n",
        "    B[i], B[nMin] = B[nMin], B[i]\n",
        "print('Изменнённый массив B',B)\n"
      ],
      "execution_count": null,
      "outputs": [
        {
          "output_type": "stream",
          "name": "stdout",
          "text": [
            "n = 6\n",
            "[5, 10, -8, 8, -4, 6]\n",
            "[-3, -7, 4, -7, -5, -8]\n",
            "Изменнённый массив A [-8, -4, 5, 6, 8, 10]\n",
            "Изменнённый массив B [-8, -7, -7, -5, -3, 4]\n"
          ]
        }
      ]
    },
    {
      "cell_type": "code",
      "metadata": {
        "id": "vZwklfdxeXey"
      },
      "source": [
        ""
      ],
      "execution_count": null,
      "outputs": []
    }
  ]
}