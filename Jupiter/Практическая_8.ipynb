{
  "nbformat": 4,
  "nbformat_minor": 0,
  "metadata": {
    "colab": {
      "name": "Практическая 8.ipynb",
      "provenance": [],
      "authorship_tag": "ABX9TyMj4yE3Mrw50HGNA4IMMgkr",
      "include_colab_link": true
    },
    "kernelspec": {
      "name": "python3",
      "display_name": "Python 3"
    },
    "language_info": {
      "name": "python"
    }
  },
  "cells": [
    {
      "cell_type": "markdown",
      "metadata": {
        "id": "view-in-github",
        "colab_type": "text"
      },
      "source": [
        "<a href=\"https://colab.research.google.com/github/HopeStudent2021/place-of-projects/blob/main/%D0%9F%D1%80%D0%B0%D0%BA%D1%82%D0%B8%D1%87%D0%B5%D1%81%D0%BA%D0%B0%D1%8F_8.ipynb\" target=\"_parent\"><img src=\"https://colab.research.google.com/assets/colab-badge.svg\" alt=\"Open In Colab\"/></a>"
      ]
    },
    {
      "cell_type": "code",
      "metadata": {
        "colab": {
          "base_uri": "https://localhost:8080/"
        },
        "id": "cKdu8VolrLwX",
        "outputId": "e653a0ae-9274-40fc-bfc8-bff93cf60bde"
      },
      "source": [
        "'''\n",
        "Вариант 19\n",
        "Задать два массива по 6 целых числа. Отсортировать оба массива:\n",
        "первый – по убыванию методом выбора, второй – по возрастанию методом пузырька.\n",
        "Выводить на экран каждый шаг сортировки.\n",
        "'''\n",
        "import random\n",
        "\n",
        "n = 6\n",
        "\n",
        "x = [random.randint(-20,20)for i in range(n)]\n",
        "y = [random.randint(-20,20)for i in range(n)]\n",
        "\n",
        "print('Исходный массив x',x)\n",
        "print('Исходный массив y',y)\n",
        "print('-'*49)\n",
        "print('Отсортировка массива x по убыванию методом выбора ')\n",
        "print()\n",
        "\n",
        "\n",
        "\n",
        "# Метод выбора\n",
        "\n",
        "for i in range(n-1):\n",
        "  nMax = i\n",
        "  for j in range(i+1, n):\n",
        "    if x[j] > x[nMax]:\n",
        "      nMax = j\n",
        "  if i != nMax:\n",
        "    x[i], x[nMax] = x[nMax], x[i]\n",
        "  print(f'{i+1} шаг',x)\n",
        "\n",
        "print()\n",
        "print('Изменнённый массив x',x)\n",
        "\n",
        "print('-'*54)\n",
        "print('Отсортировка массива y по возрастанию методом пузырька')\n",
        "print()\n",
        "# метод пузырька\n",
        "\n",
        "for i in range(n):\n",
        "  for j in range(n-i-1):\n",
        "    if y[j+1] < y[j]:\n",
        "      y[j], y[j+1] = y[j+1], y[j]\n",
        "  print(f'{i+1} шаг',y)\n",
        "\n",
        "print()\n",
        "print('Изменнённый массив y',y)"
      ],
      "execution_count": 25,
      "outputs": [
        {
          "output_type": "stream",
          "name": "stdout",
          "text": [
            "Исходный массив x [14, -8, 3, 1, 3, -8]\n",
            "Исходный массив y [9, -4, 0, -2, 6, -9]\n",
            "-------------------------------------------------\n",
            "Отсортировка массива x по убыванию методом выбора \n",
            "\n",
            "1 шаг [14, -8, 3, 1, 3, -8]\n",
            "2 шаг [14, 3, -8, 1, 3, -8]\n",
            "3 шаг [14, 3, 3, 1, -8, -8]\n",
            "4 шаг [14, 3, 3, 1, -8, -8]\n",
            "5 шаг [14, 3, 3, 1, -8, -8]\n",
            "\n",
            "Изменнённый массив x [14, 3, 3, 1, -8, -8]\n",
            "------------------------------------------------------\n",
            "Отсортировка массива y по возрастанию методом пузырька\n",
            "\n",
            "1 шаг [-4, 0, -2, 6, -9, 9]\n",
            "2 шаг [-4, -2, 0, -9, 6, 9]\n",
            "3 шаг [-4, -2, -9, 0, 6, 9]\n",
            "4 шаг [-4, -9, -2, 0, 6, 9]\n",
            "5 шаг [-9, -4, -2, 0, 6, 9]\n",
            "6 шаг [-9, -4, -2, 0, 6, 9]\n",
            "\n",
            "Изменнённый массив y [-9, -4, -2, 0, 6, 9]\n"
          ]
        }
      ]
    }
  ]
}
