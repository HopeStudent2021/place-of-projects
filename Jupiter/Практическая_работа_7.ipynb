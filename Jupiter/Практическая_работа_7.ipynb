{
  "nbformat": 4,
  "nbformat_minor": 0,
  "metadata": {
    "colab": {
      "name": "Практическая работа 7.ipynb",
      "provenance": [],
      "authorship_tag": "ABX9TyMdcIk1Bu7dQAyCKFFwlAPC",
      "include_colab_link": true
    },
    "kernelspec": {
      "name": "python3",
      "display_name": "Python 3"
    },
    "language_info": {
      "name": "python"
    }
  },
  "cells": [
    {
      "cell_type": "markdown",
      "metadata": {
        "id": "view-in-github",
        "colab_type": "text"
      },
      "source": [
        "<a href=\"https://colab.research.google.com/github/HopeStudent2021/place-of-projects/blob/main/%D0%9F%D1%80%D0%B0%D0%BA%D1%82%D0%B8%D1%87%D0%B5%D1%81%D0%BA%D0%B0%D1%8F_%D1%80%D0%B0%D0%B1%D0%BE%D1%82%D0%B0_7.ipynb\" target=\"_parent\"><img src=\"https://colab.research.google.com/assets/colab-badge.svg\" alt=\"Open In Colab\"/></a>"
      ]
    },
    {
      "cell_type": "code",
      "metadata": {
        "colab": {
          "base_uri": "https://localhost:8080/"
        },
        "id": "rS-TSU9nMsUa",
        "outputId": "4b21d811-3e3f-4c8a-e310-e45c6cb5eb13"
      },
      "source": [
        "'''\n",
        "Вариант 19.\tЗадать  два целочисленных массива одинакового размера (не более 10 элементов).\n",
        "Вывести исходные массивы на экран.\n",
        "Сформировать новый массив, являющийся разностью квадратов исходных массивов.\n",
        "Вычислить произведение тех элементов каждого массива, которые больше числа 1,7.\n",
        "\n",
        "'''\n",
        "from random import randint\n",
        "n = int(input('Размер массива: '))\n",
        "A = [randint(-15, 15) for x in range(n)]\n",
        "B = [randint(-25, 25) for x in range(n)]\n",
        "\n",
        "print('Исходный массив A: ',A)\n",
        "print('Исходный массив B: ',B)\n",
        "\n",
        "C = []\n",
        "p1 = 1\n",
        "p2 = 1\n",
        "p3 = 1\n",
        "for i in range (n):\n",
        "\n",
        "  C.append(A[i]**2 - (B[i])**2)\n",
        "  if A[i] > 1.7:\n",
        "    p1 *= A[i]\n",
        "  if B[i] > 1.7 :\n",
        "    p2 *= B[i]\n",
        "  if C[i] > 1.7:\n",
        "    p3 *= C[i]\n",
        "\n",
        "print('Новый массив С: ',C)\n",
        "\n",
        "print('Произведение А:',p1)\n",
        "print('Произведение B:',p2)\n",
        "print('Произведение C:',p3)\n"
      ],
      "execution_count": null,
      "outputs": [
        {
          "output_type": "stream",
          "name": "stdout",
          "text": [
            "Размер массива: 5\n",
            "Исходный массив A:  [-13, 3, 4, 12, -13]\n",
            "Исходный массив B:  [3, 3, -18, -10, -2]\n",
            "Новый массив С:  [160, 0, -308, 44, 165]\n",
            "Произведение А: 144\n",
            "Произведение B: 9\n",
            "Произведение C: 1161600\n"
          ]
        }
      ]
    },
    {
      "cell_type": "code",
      "metadata": {
        "id": "rGVIQjMwVrcW"
      },
      "source": [
        ""
      ],
      "execution_count": null,
      "outputs": []
    }
  ]
}
