{
  "nbformat": 4,
  "nbformat_minor": 0,
  "metadata": {
    "colab": {
      "name": "Двумерные массивы.ipynb",
      "provenance": [],
      "include_colab_link": true
    },
    "kernelspec": {
      "name": "python3",
      "display_name": "Python 3"
    },
    "language_info": {
      "name": "python"
    }
  },
  "cells": [
    {
      "cell_type": "markdown",
      "metadata": {
        "id": "view-in-github",
        "colab_type": "text"
      },
      "source": [
        "<a href=\"https://colab.research.google.com/github/HopeStudent2021/place-of-projects/blob/main/%D0%94%D0%B2%D1%83%D0%BC%D0%B5%D1%80%D0%BD%D1%8B%D0%B5_%D0%BC%D0%B0%D1%81%D1%81%D0%B8%D0%B2%D1%8B.ipynb\" target=\"_parent\"><img src=\"https://colab.research.google.com/assets/colab-badge.svg\" alt=\"Open In Colab\"/></a>"
      ]
    },
    {
      "cell_type": "code",
      "metadata": {
        "colab": {
          "base_uri": "https://localhost:8080/"
        },
        "id": "i-6JaTGYxBnZ",
        "outputId": "d67be5d8-b169-4a4e-a0c4-d166e9a22dbb"
      },
      "source": [
        "m=n = int(input('n = ')) # строки\n",
        "m = int(input('m = ')) # столбцы\n",
        "a = []\n",
        "\n",
        "# 1 вариант\n",
        "'''\n",
        "for i in range(n):\n",
        "    a.append([0]*m)\n",
        "'''\n",
        "# 2 вариант\n",
        "\n",
        "a = [[0]*m for i in range(n)]\n",
        "print(a)"
      ],
      "execution_count": null,
      "outputs": [
        {
          "output_type": "stream",
          "name": "stdout",
          "text": [
            "n = 3\n",
            "m = 4\n",
            "[[0, 0, 0, 0], [0, 0, 0, 0], [0, 0, 0, 0]]\n"
          ]
        }
      ]
    },
    {
      "cell_type": "code",
      "metadata": {
        "id": "g8a-S3300vNj"
      },
      "source": [
        "def printMatrix (a):\n",
        "    for row in a:\n",
        "        for x in row:\n",
        "            print ( \"{:4d}\".format(x), end = \"\" )\n",
        "        print ()\n",
        "\n",
        "a = [[0]*m for i in range(n)]\n",
        "print(printMatrix (a))\n"
      ],
      "execution_count": null,
      "outputs": []
    },
    {
      "cell_type": "code",
      "metadata": {
        "colab": {
          "base_uri": "https://localhost:8080/"
        },
        "id": "7aklkelf1JZB",
        "outputId": "059617af-5e35-4431-bc77-8f4582ebc297"
      },
      "source": [
        "import random\n",
        "n = int(input('n = ')) # строки\n",
        "m = int(input('m = ')) # столбцы\n",
        "a = []\n",
        "a = [[0]*m for i in range(n)]\n",
        "# 1 вариант\n",
        "\n",
        "for i in range(n):\n",
        "    for j in range(m):\n",
        "        a[i][j] = random.randint(-5,5)\n",
        "        print ( \"{:4d}\".format(a[i][j]), end = \"\" )\n",
        "    print ()"
      ],
      "execution_count": null,
      "outputs": [
        {
          "output_type": "stream",
          "name": "stdout",
          "text": [
            "n = 3\n",
            "m = 4\n",
            "  -2  -2  -4  -3\n",
            "   1  -4  -5   1\n",
            "  -5   0   5   2\n"
          ]
        }
      ]
    },
    {
      "cell_type": "code",
      "metadata": {
        "colab": {
          "base_uri": "https://localhost:8080/"
        },
        "id": "-plkD_IO2LX5",
        "outputId": "371f9991-c736-42e1-8bb4-1519e063c3e6"
      },
      "source": [
        "n = int(input('n = ')) # строки\n",
        "m = int(input('m = ')) # столбцы\n",
        "a = []\n",
        "a = [[0]*m for i in range(n)]\n",
        "\n",
        "for i in range(n):\n",
        "    for j in range(m):\n",
        "        a[i][j] = random.randint(-5,5)\n",
        "        print ( \"{:4d}\".format(a[i][j]), end = \"\" )\n",
        "    print ()\n",
        "\n",
        "s = 0\n",
        "for i in range(n):\n",
        "    for j in range(m):\n",
        "        if a[i][j] > 0:\n",
        "            s += a[i][j]\n",
        "print ( s )"
      ],
      "execution_count": null,
      "outputs": [
        {
          "output_type": "stream",
          "name": "stdout",
          "text": [
            "n = 2\n",
            "m = 3\n",
            "  -3  -5  -2\n",
            "   2   4  -2\n",
            "6\n"
          ]
        }
      ]
    },
    {
      "cell_type": "code",
      "metadata": {
        "id": "e_nRQNJR28GI"
      },
      "source": [
        "# обработка элементов матрицы\n",
        "\n",
        "for i in range(N):\n",
        "    # работаем с A[i][i]\n",
        "\n",
        "\n",
        "for i in range(N):\n",
        "# работаем с A[i][N-1-i]\n",
        "\n",
        "\n",
        "for i in range(N):\n",
        "    for j in range( i+1 ):\n",
        "        # работаем с A[i][j]\n",
        "\n",
        "# строки\n",
        "a[i],[j] = a[j], [i]\n",
        "\n",
        "# столбцы\n",
        "for i in range(N):\n",
        "    a[i][2], a[i][4] = a[i][4], a[i][2]\n",
        "\n",
        "for i in range(N):\n",
        "    c = A[i][2]\n",
        "    A[i][2] = A[i][4]\n",
        "    A[i][4] = c"
      ],
      "execution_count": null,
      "outputs": []
    },
    {
      "cell_type": "code",
      "metadata": {
        "colab": {
          "base_uri": "https://localhost:8080/"
        },
        "id": "6sP7UUYn4YQx",
        "outputId": "1996f9d1-6a88-46b2-924d-03be7259a8f6"
      },
      "source": [
        "n = int(input('n = ')) # строки\n",
        "m = int(input('m = ')) # столбцы\n",
        "a = []\n",
        "a = [[0]*m for i in range(n)]\n",
        "\n",
        "for i in range(n):\n",
        "    for j in range(m):\n",
        "        a[i][j] = random.randint(-5,5)\n",
        "        print ( \"{:4d}\".format(a[i][j]), end = \"\" )\n",
        "    print ()\n",
        "print('-'*30)\n",
        "for i in range(n):\n",
        "    a[i],a[j] = a[j], a[i]\n",
        "print(printMatrix (a))\n",
        "\n",
        "print('-'*30)\n",
        "for i in range(n):\n",
        "    a[i][2], a[i][3] = a[i][3], a[i][2]\n",
        "print(printMatrix (a))"
      ],
      "execution_count": null,
      "outputs": [
        {
          "output_type": "stream",
          "name": "stdout",
          "text": [
            "n = 4\n",
            "m = 4\n",
            "  -3   1   5   5\n",
            "  -3   5  -4  -5\n",
            "   4  -3  -3   2\n",
            "   2   1   5  -3\n",
            "------------------------------\n",
            "   2   1   5  -3\n",
            "  -3   1   5   5\n",
            "  -3   5  -4  -5\n",
            "   4  -3  -3   2\n",
            "None\n",
            "   2   1  -3   5\n",
            "  -3   1   5   5\n",
            "  -3   5  -5  -4\n",
            "   4  -3   2  -3\n",
            "None\n"
          ]
        }
      ]
    },
    {
      "cell_type": "code",
      "metadata": {
        "id": "Wjz3DEvh5qnY"
      },
      "source": [
        "# Копия строки\n",
        "R = A[i][:]\n",
        "\n",
        "# Копия столбца\n",
        "C = [ row[j] for row in A ]\n",
        "\n",
        "# массив с элементами главной строки\n",
        "D = [ A[i][i] for i in range(N) ]\n",
        "\n"
      ],
      "execution_count": null,
      "outputs": []
    },
    {
      "cell_type": "code",
      "metadata": {
        "colab": {
          "base_uri": "https://localhost:8080/"
        },
        "id": "zvWZTJOD6EVv",
        "outputId": "b9beb522-a35f-4a78-c48d-8e47a4ed940b"
      },
      "source": [
        "'''\n",
        "Напишите программу, которая находит минимальный и максимальный элементы матрицы и\n",
        "их индексы.\n",
        "'''\n",
        "import random\n",
        "\n",
        "def printMatrix (a):\n",
        "    for row in a:\n",
        "        for x in row:\n",
        "            print ( \"{:4d}\".format(x), end = \"\" )\n",
        "        print ()\n",
        "\n",
        "\n",
        "n = int(input('n = ')) # строки\n",
        "m = int(input('m = ')) # столбцы\n",
        "a = []\n",
        "a = [[0]*m for i in range(n)]\n",
        "\n",
        "\n",
        "for i in range(n):\n",
        "    for j in range(m):\n",
        "        a[i][j] = random.randint(-5,5)\n",
        "        print ( \"{:4d}\".format(a[i][j]), end = \"\" )\n",
        "    print ()\n",
        "\n",
        "mn = 10\n",
        "kn = 0\n",
        "km = 0\n",
        "mx = -10\n",
        "tn = 0\n",
        "tm = 0\n",
        "for i in range(n):\n",
        "    for j in range(m):\n",
        "        if mn > a[i][j]:\n",
        "            mn = a[i][j]\n",
        "            kn = i\n",
        "            km = j\n",
        "        if mx < a[i][j]:\n",
        "            mx = a[i][j]\n",
        "            tn = i\n",
        "            tm = j\n",
        "print(f'Максимальный элемент {mx}, его индексы {tn}{tm} ')\n",
        "print(f'Минимальный элемент {mn}, его индексы {kn}{km} ')"
      ],
      "execution_count": null,
      "outputs": [
        {
          "output_type": "stream",
          "name": "stdout",
          "text": [
            "n = 4\n",
            "m = 4\n",
            "   1   1   2   5\n",
            "  -2  -4   5   2\n",
            "  -2   4   5   2\n",
            "  -3  -2  -2   4\n",
            "Максимальный элемент 5, его индексы 14 \n",
            "Минимальный элемент -4, его индексы 22 \n"
          ]
        }
      ]
    },
    {
      "cell_type": "code",
      "metadata": {
        "id": "Pr9_NSp2hh1k",
        "colab": {
          "base_uri": "https://localhost:8080/"
        },
        "outputId": "4b264aab-cc10-4230-85c2-97ccbaff9ab3"
      },
      "source": [
        "# Вариант 31\n",
        "'''\n",
        "Дана матрица А 3x4 состоящая из вещественных чисел\n",
        "    1. Ввести элементы матрицы, а затем вывести их\n",
        "    2. Определить сумму элементов не кратных 8\n",
        "    3. Все элементы матрицы уменьшить на 10\n",
        "'''\n",
        "import random\n",
        "\n",
        "n = 3\n",
        "m = 4\n",
        "\n",
        "a = []\n",
        "a = [[0]*m for i in range(n)]\n",
        "\n",
        "\n",
        "for i in range(n):\n",
        "    for j in range(m):\n",
        "        a[i][j] = random.randint(0,10)\n",
        "        print ( \"{:4d}\".format(a[i][j]), end = \"\" )\n",
        "    print ()\n",
        "\n",
        "s = 0\n",
        "for i in range(n):\n",
        "    for j in range(m):\n",
        "        if a[i][j]%8!= 0:\n",
        "            s += a[i][j]\n",
        "        a[i][j] = a[i][j]-10\n",
        "print('Сумма элементов некратных 8:', s)\n",
        "\n",
        "for i in range(n):\n",
        "    for j in range(m):\n",
        "        print ( \"{:4d}\".format(a[i][j]), end = \"\" )\n",
        "    print ()"
      ],
      "execution_count": null,
      "outputs": [
        {
          "output_type": "stream",
          "name": "stdout",
          "text": [
            "   5  10   1   1\n",
            "   8   2   0  10\n",
            "   7   6   7   2\n",
            "Сумма элементов некратных 8: 51\n",
            "  -5   0  -9  -9\n",
            "  -2  -8 -10   0\n",
            "  -3  -4  -3  -8\n"
          ]
        }
      ]
    },
    {
      "cell_type": "code",
      "metadata": {
        "id": "MnU3nbdckEwa",
        "colab": {
          "base_uri": "https://localhost:8080/"
        },
        "outputId": "09632446-99d2-4a1e-d603-2d6e884b1568"
      },
      "source": [
        "# Вариант 33\n",
        "'''\n",
        " ввести и вывести\n",
        " Произведение которые больше числа 5\n",
        "\n",
        "'''\n",
        "\n",
        "import random\n",
        "\n",
        "n = 3\n",
        "m = 3\n",
        "\n",
        "a = []\n",
        "a = [[0]*m for i in range(n)]\n",
        "\n",
        "\n",
        "for i in range(n):\n",
        "    for j in range(m):\n",
        "        a[i][j] = random.uniform(-20,20)\n",
        "        print( \"{:8.2f}\".format(a[i][j]), end = \"\" )\n",
        "    print ()\n",
        "\n",
        "p = 1\n",
        "for i in range(n):\n",
        "    for j in range(m):\n",
        "        if a[i][j] > 5:\n",
        "            p *= a[i][j]\n",
        "        a[i][j] = (a[i][j]- int(a[i][j]))\n",
        "\n",
        "print('Произведение элементов, которые больше 5:', round(p,2))\n",
        "\n",
        " for i in range(n):\n",
        "    for j in range(m):\n",
        "        print ( \"{:8.2f}\".format(a[i][j]), end = \"\" )\n",
        "    print ()"
      ],
      "execution_count": null,
      "outputs": [
        {
          "output_type": "stream",
          "name": "stdout",
          "text": [
            "   11.48  -10.80   -4.78\n",
            "   18.31   -7.55   12.00\n",
            "   17.12   -7.82   17.17\n",
            "Произведение элементов, которые больше 5: 741738.88\n",
            "    0.48   -0.80   -0.78\n",
            "    0.31   -0.55    0.00\n",
            "    0.12   -0.82    0.17\n"
          ]
        }
      ]
    },
    {
      "cell_type": "code",
      "metadata": {
        "colab": {
          "base_uri": "https://localhost:8080/"
        },
        "id": "QEInN-wvqN6A",
        "outputId": "a1410bd7-6f52-48a2-8553-b6d02136bd86"
      },
      "source": [
        "# Вариант 32\n",
        "\n",
        "import random\n",
        "\n",
        "n = 5\n",
        "m = 3\n",
        "\n",
        "a = []\n",
        "a = [[0]*m for i in range(n)]\n",
        "\n",
        "\n",
        "for i in range(n):\n",
        "    for j in range(m):\n",
        "        a[i][j] = random.randint(-20,20)\n",
        "        print( \"{:7d}\".format(a[i][j]), end = \"\" )\n",
        "    print ()\n",
        "\n",
        "s = 0\n",
        "for i in range(n):\n",
        "    for j in range(m):\n",
        "        if a[i][j] % 2 == 0:\n",
        "            s += a[i][j]\n",
        "        a[i][j] = a[i][j]*10\n",
        "print('Сумма четных элементов:', s)\n",
        "\n",
        "\n",
        "for i in range(n):\n",
        "    for j in range(m):\n",
        "        print ( \"{:7d}\".format(a[i][j]), end = \"\" )\n",
        "    print ()\n"
      ],
      "execution_count": null,
      "outputs": [
        {
          "output_type": "stream",
          "name": "stdout",
          "text": [
            "     11    -16     18\n",
            "     10     -1    -16\n",
            "     11    -19    -11\n",
            "    -20      0     11\n",
            "      7     18    -12\n",
            "Сумма четных элементов: -18\n",
            "    110   -160    180\n",
            "    100    -10   -160\n",
            "    110   -190   -110\n",
            "   -200      0    110\n",
            "     70    180   -120\n"
          ]
        }
      ]
    }
  ]
}
